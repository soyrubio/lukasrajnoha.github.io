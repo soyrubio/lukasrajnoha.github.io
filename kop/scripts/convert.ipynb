{
 "cells": [
  {
   "cell_type": "code",
   "execution_count": 13,
   "metadata": {},
   "outputs": [],
   "source": [
    "# load unformatted.txt file as utf-8\n",
    "\n",
    "f = open('unformatted.txt', 'r', encoding='utf-8')\n",
    "\n",
    "data = []\n",
    "question = \"\"\n",
    "answers = {}\n",
    "correct = {}\n",
    "answer_id = 0\n",
    "# read the file\n",
    "new_question = True\n",
    "for line in f:\n",
    "    # check if line is blank\n",
    "    if line.strip() == '':\n",
    "        data.append({\n",
    "            'otazka': question,\n",
    "            'odpovedi': answers,\n",
    "            'spravne': correct\n",
    "        })\n",
    "        new_question = True\n",
    "        question =  \"\"\n",
    "        answers = {}\n",
    "        correct = {}\n",
    "        answer_id = 0\n",
    "        continue\n",
    "\n",
    "    if new_question:\n",
    "        # line is a question\n",
    "        question = line.strip()\n",
    "        new_question = False\n",
    "        continue\n",
    "\n",
    "    # line is an answer\n",
    "    if line[0] == '.':\n",
    "        # line is a correct answer\n",
    "        correct[answer_id] = 1\n",
    "        answers[answer_id] = line.strip()[1:]\n",
    "\n",
    "    else:\n",
    "        correct[answer_id] = 0\n",
    "        answers[answer_id] = line.strip()\n",
    "    \n",
    "    \n",
    "\n",
    "    answer_id += 1\n",
    "\n",
    "# data to file\n",
    "\n",
    "import json\n",
    "\n",
    "# as utf8\n",
    "with open('otazky.js', 'w', encoding='utf-8') as outfile:\n",
    "    # write \"var otazky = [];\" to file\n",
    "    outfile.write(\"var otazky = []\\n\")\n",
    "    # writeln each question to file, encapsulate each into otazky.push()\n",
    "    for question in data:\n",
    "        outfile.write(\"otazky.push(\\n\")\n",
    "        json.dump(question, outfile)\n",
    "        outfile.write(\");\\n\")\n",
    "\n",
    "    \n",
    "\n",
    "    \n",
    "\n",
    "    \n",
    "\n",
    "\n"
   ]
  },
  {
   "cell_type": "code",
   "execution_count": null,
   "metadata": {},
   "outputs": [],
   "source": []
  }
 ],
 "metadata": {
  "kernelspec": {
   "display_name": "Python 3",
   "language": "python",
   "name": "python3"
  },
  "language_info": {
   "codemirror_mode": {
    "name": "ipython",
    "version": 3
   },
   "file_extension": ".py",
   "mimetype": "text/x-python",
   "name": "python",
   "nbconvert_exporter": "python",
   "pygments_lexer": "ipython3",
   "version": "3.10.6"
  },
  "orig_nbformat": 4,
  "vscode": {
   "interpreter": {
    "hash": "e1719be7d630e7e0894a4346e00239747771550a505546fd5ba4d63ceaa06c07"
   }
  }
 },
 "nbformat": 4,
 "nbformat_minor": 2
}
